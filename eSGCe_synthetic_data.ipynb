{
 "cells": [
  {
   "cell_type": "code",
   "execution_count": 1,
   "metadata": {},
   "outputs": [],
   "source": [
    "# Data preparation\n",
    "#We create a dataset consisting in multiple random graphs and associated data features.\n",
    "\n",
    "using GraphNeuralNetworks, Graphs, Flux, CUDA, Statistics, MLUtils\n",
    "using Flux: DataLoader\n",
    "\n",
    "all_graphs = GNNGraph[]\n",
    "\n",
    "for _ in 1:1000\n",
    "    g = rand_graph(10, 40,  \n",
    "            ndata=(; x = randn(Float32, 16,10)),  # input node features\n",
    "            gdata=(; y = randn(Float32)))         # regression target   \n",
    "    push!(all_graphs, g)\n",
    "end"
   ]
  },
  {
   "cell_type": "code",
   "execution_count": 2,
   "metadata": {},
   "outputs": [
    {
     "data": {
      "text/plain": [
       "(layers = ((weight = \u001b[32mLeaf(Adam(0.0001, (0.9, 0.999), 1.0e-8), \u001b[39m(Float32[0.0 0.0 … 0.0 0.0; 0.0 0.0 … 0.0 0.0; … ; 0.0 0.0 … 0.0 0.0; 0.0 0.0 … 0.0 0.0], Float32[0.0 0.0 … 0.0 0.0; 0.0 0.0 … 0.0 0.0; … ; 0.0 0.0 … 0.0 0.0; 0.0 0.0 … 0.0 0.0], (0.9, 0.999))\u001b[32m)\u001b[39m, bias = \u001b[32mLeaf(Adam(0.0001, (0.9, 0.999), 1.0e-8), \u001b[39m(Float32[0.0, 0.0, 0.0, 0.0, 0.0, 0.0, 0.0, 0.0, 0.0, 0.0  …  0.0, 0.0, 0.0, 0.0, 0.0, 0.0, 0.0, 0.0, 0.0, 0.0], Float32[0.0, 0.0, 0.0, 0.0, 0.0, 0.0, 0.0, 0.0, 0.0, 0.0  …  0.0, 0.0, 0.0, 0.0, 0.0, 0.0, 0.0, 0.0, 0.0, 0.0], (0.9, 0.999))\u001b[32m)\u001b[39m, σ = (), add_self_loops = (), use_edge_weight = ()), (λ = (), β = \u001b[32mLeaf(Adam(0.0001, (0.9, 0.999), 1.0e-8), \u001b[39m(Float32[0.0, 0.0, 0.0, 0.0, 0.0, 0.0, 0.0, 0.0, 0.0, 0.0  …  0.0, 0.0, 0.0, 0.0, 0.0, 0.0, 0.0, 0.0, 0.0, 0.0], Float32[0.0, 0.0, 0.0, 0.0, 0.0, 0.0, 0.0, 0.0, 0.0, 0.0  …  0.0, 0.0, 0.0, 0.0, 0.0, 0.0, 0.0, 0.0, 0.0, 0.0], (0.9, 0.999))\u001b[32m)\u001b[39m, γ = \u001b[32mLeaf(Adam(0.0001, (0.9, 0.999), 1.0e-8), \u001b[39m(Float32[0.0, 0.0, 0.0, 0.0, 0.0, 0.0, 0.0, 0.0, 0.0, 0.0  …  0.0, 0.0, 0.0, 0.0, 0.0, 0.0, 0.0, 0.0, 0.0, 0.0], Float32[0.0, 0.0, 0.0, 0.0, 0.0, 0.0, 0.0, 0.0, 0.0, 0.0  …  0.0, 0.0, 0.0, 0.0, 0.0, 0.0, 0.0, 0.0, 0.0, 0.0], (0.9, 0.999))\u001b[32m)\u001b[39m, μ = (), σ² = (), ϵ = (), momentum = (), affine = (), track_stats = (), active = (), chs = ()), (), (weight = \u001b[32mLeaf(Adam(0.0001, (0.9, 0.999), 1.0e-8), \u001b[39m(Float32[0.0 0.0 … 0.0 0.0; 0.0 0.0 … 0.0 0.0; … ; 0.0 0.0 … 0.0 0.0; 0.0 0.0 … 0.0 0.0], Float32[0.0 0.0 … 0.0 0.0; 0.0 0.0 … 0.0 0.0; … ; 0.0 0.0 … 0.0 0.0; 0.0 0.0 … 0.0 0.0], (0.9, 0.999))\u001b[32m)\u001b[39m, bias = \u001b[32mLeaf(Adam(0.0001, (0.9, 0.999), 1.0e-8), \u001b[39m(Float32[0.0, 0.0, 0.0, 0.0, 0.0, 0.0, 0.0, 0.0, 0.0, 0.0  …  0.0, 0.0, 0.0, 0.0, 0.0, 0.0, 0.0, 0.0, 0.0, 0.0], Float32[0.0, 0.0, 0.0, 0.0, 0.0, 0.0, 0.0, 0.0, 0.0, 0.0  …  0.0, 0.0, 0.0, 0.0, 0.0, 0.0, 0.0, 0.0, 0.0, 0.0], (0.9, 0.999))\u001b[32m)\u001b[39m, σ = (), add_self_loops = (), use_edge_weight = ()), (), (weight = \u001b[32mLeaf(Adam(0.0001, (0.9, 0.999), 1.0e-8), \u001b[39m(Float32[0.0 0.0 … 0.0 0.0], Float32[0.0 0.0 … 0.0 0.0], (0.9, 0.999))\u001b[32m)\u001b[39m, bias = \u001b[32mLeaf(Adam(0.0001, (0.9, 0.999), 1.0e-8), \u001b[39m(Float32[0.0], Float32[0.0], (0.9, 0.999))\u001b[32m)\u001b[39m, σ = ())),)"
      ]
     },
     "metadata": {},
     "output_type": "display_data"
    }
   ],
   "source": [
    "#Model building\n",
    "#We concisely define our model as a GNNChain containing two graph convolutional layers. \n",
    "#If CUDA is available, our model will live on the gpu.\n",
    "\n",
    "device = CUDA.functional() ? Flux.gpu : Flux.cpu;\n",
    "\n",
    "model = GNNChain(GCNConv(16 => 64),\n",
    "                BatchNorm(64),     # Apply batch normalization on node features (nodes dimension is batch dimension)\n",
    "                x -> relu.(x),     \n",
    "                GCNConv(64 => 64, relu),\n",
    "                GlobalPool(mean),  # aggregate node-wise features into graph-wise features\n",
    "                Dense(64, 1)) |> device\n",
    "\n",
    "opt = Flux.setup(Adam(1f-4), model)"
   ]
  },
  {
   "cell_type": "code",
   "execution_count": 3,
   "metadata": {},
   "outputs": [],
   "source": [
    "#Training\n",
    "#The  Flux training pipeline is used for our dataset. \n",
    "#We use Flux's DataLoader to iterate over mini-batches of graphs that are glued together into a \n",
    "#single GNNGraph using the Flux.batch method. "
   ]
  },
  {
   "cell_type": "code",
   "execution_count": 4,
   "metadata": {},
   "outputs": [
    {
     "name": "stderr",
     "output_type": "stream",
     "text": [
      "┌ Info: (epoch = 1, train_loss = 1.0213763f0, test_loss = 1.1829649f0)\n",
      "└ @ Main c:\\Users\\victo\\OneDrive\\Documents\\Desktop_New\\Dissertation_Project_Parts\\eSGC_Code_Parts\\jl_notebook_cell_df34fa98e69747e1a8f8a730347b8e2f_W3sZmlsZQ==.jl:19\n",
      "┌ Info: (epoch = 2, train_loss = 1.0450398f0, test_loss = 1.2269471f0)\n",
      "└ @ Main c:\\Users\\victo\\OneDrive\\Documents\\Desktop_New\\Dissertation_Project_Parts\\eSGC_Code_Parts\\jl_notebook_cell_df34fa98e69747e1a8f8a730347b8e2f_W3sZmlsZQ==.jl:19\n",
      "┌ Info: (epoch = 3, train_loss = 1.0291452f0, test_loss = 1.2219772f0)\n",
      "└ @ Main c:\\Users\\victo\\OneDrive\\Documents\\Desktop_New\\Dissertation_Project_Parts\\eSGC_Code_Parts\\jl_notebook_cell_df34fa98e69747e1a8f8a730347b8e2f_W3sZmlsZQ==.jl:19\n",
      "┌ Info: (epoch = 4, train_loss = 1.0114286f0, test_loss = 1.2103567f0)\n",
      "└ @ Main c:\\Users\\victo\\OneDrive\\Documents\\Desktop_New\\Dissertation_Project_Parts\\eSGC_Code_Parts\\jl_notebook_cell_df34fa98e69747e1a8f8a730347b8e2f_W3sZmlsZQ==.jl:19\n",
      "┌ Info: (epoch = 5, train_loss = 0.9969785f0, test_loss = 1.2090648f0)\n",
      "└ @ Main c:\\Users\\victo\\OneDrive\\Documents\\Desktop_New\\Dissertation_Project_Parts\\eSGC_Code_Parts\\jl_notebook_cell_df34fa98e69747e1a8f8a730347b8e2f_W3sZmlsZQ==.jl:19\n",
      "┌ Info: (epoch = 6, train_loss = 0.9864524f0, test_loss = 1.2070884f0)\n",
      "└ @ Main c:\\Users\\victo\\OneDrive\\Documents\\Desktop_New\\Dissertation_Project_Parts\\eSGC_Code_Parts\\jl_notebook_cell_df34fa98e69747e1a8f8a730347b8e2f_W3sZmlsZQ==.jl:19\n",
      "┌ Info: (epoch = 7, train_loss = 0.9764162f0, test_loss = 1.2029889f0)\n",
      "└ @ Main c:\\Users\\victo\\OneDrive\\Documents\\Desktop_New\\Dissertation_Project_Parts\\eSGC_Code_Parts\\jl_notebook_cell_df34fa98e69747e1a8f8a730347b8e2f_W3sZmlsZQ==.jl:19\n",
      "┌ Info: (epoch = 8, train_loss = 0.9696448f0, test_loss = 1.2013171f0)\n",
      "└ @ Main c:\\Users\\victo\\OneDrive\\Documents\\Desktop_New\\Dissertation_Project_Parts\\eSGC_Code_Parts\\jl_notebook_cell_df34fa98e69747e1a8f8a730347b8e2f_W3sZmlsZQ==.jl:19\n",
      "┌ Info: (epoch = 9, train_loss = 0.9617026f0, test_loss = 1.1970654f0)\n",
      "└ @ Main c:\\Users\\victo\\OneDrive\\Documents\\Desktop_New\\Dissertation_Project_Parts\\eSGC_Code_Parts\\jl_notebook_cell_df34fa98e69747e1a8f8a730347b8e2f_W3sZmlsZQ==.jl:19\n",
      "┌ Info: (epoch = 10, train_loss = 0.9565742f0, test_loss = 1.1992829f0)\n",
      "└ @ Main c:\\Users\\victo\\OneDrive\\Documents\\Desktop_New\\Dissertation_Project_Parts\\eSGC_Code_Parts\\jl_notebook_cell_df34fa98e69747e1a8f8a730347b8e2f_W3sZmlsZQ==.jl:19\n",
      "┌ Info: (epoch = 11, train_loss = 0.9504966f0, test_loss = 1.202016f0)\n",
      "└ @ Main c:\\Users\\victo\\OneDrive\\Documents\\Desktop_New\\Dissertation_Project_Parts\\eSGC_Code_Parts\\jl_notebook_cell_df34fa98e69747e1a8f8a730347b8e2f_W3sZmlsZQ==.jl:19\n",
      "┌ Info: (epoch = 12, train_loss = 0.94503736f0, test_loss = 1.2026644f0)\n",
      "└ @ Main c:\\Users\\victo\\OneDrive\\Documents\\Desktop_New\\Dissertation_Project_Parts\\eSGC_Code_Parts\\jl_notebook_cell_df34fa98e69747e1a8f8a730347b8e2f_W3sZmlsZQ==.jl:19\n",
      "┌ Info: (epoch = 13, train_loss = 0.9408386f0, test_loss = 1.2044628f0)\n",
      "└ @ Main c:\\Users\\victo\\OneDrive\\Documents\\Desktop_New\\Dissertation_Project_Parts\\eSGC_Code_Parts\\jl_notebook_cell_df34fa98e69747e1a8f8a730347b8e2f_W3sZmlsZQ==.jl:19\n",
      "┌ Info: (epoch = 14, train_loss = 0.93629295f0, test_loss = 1.2005821f0)\n",
      "└ @ Main c:\\Users\\victo\\OneDrive\\Documents\\Desktop_New\\Dissertation_Project_Parts\\eSGC_Code_Parts\\jl_notebook_cell_df34fa98e69747e1a8f8a730347b8e2f_W3sZmlsZQ==.jl:19\n",
      "┌ Info: (epoch = 15, train_loss = 0.9312269f0, test_loss = 1.2012793f0)\n",
      "└ @ Main c:\\Users\\victo\\OneDrive\\Documents\\Desktop_New\\Dissertation_Project_Parts\\eSGC_Code_Parts\\jl_notebook_cell_df34fa98e69747e1a8f8a730347b8e2f_W3sZmlsZQ==.jl:19\n",
      "┌ Info: (epoch = 16, train_loss = 0.92741394f0, test_loss = 1.1993853f0)\n",
      "└ @ Main c:\\Users\\victo\\OneDrive\\Documents\\Desktop_New\\Dissertation_Project_Parts\\eSGC_Code_Parts\\jl_notebook_cell_df34fa98e69747e1a8f8a730347b8e2f_W3sZmlsZQ==.jl:19\n",
      "┌ Info: (epoch = 17, train_loss = 0.92357194f0, test_loss = 1.1985723f0)\n",
      "└ @ Main c:\\Users\\victo\\OneDrive\\Documents\\Desktop_New\\Dissertation_Project_Parts\\eSGC_Code_Parts\\jl_notebook_cell_df34fa98e69747e1a8f8a730347b8e2f_W3sZmlsZQ==.jl:19\n",
      "┌ Info: (epoch = 18, train_loss = 0.9196394f0, test_loss = 1.1992513f0)\n",
      "└ @ Main c:\\Users\\victo\\OneDrive\\Documents\\Desktop_New\\Dissertation_Project_Parts\\eSGC_Code_Parts\\jl_notebook_cell_df34fa98e69747e1a8f8a730347b8e2f_W3sZmlsZQ==.jl:19\n",
      "┌ Info: (epoch = 19, train_loss = 0.9162726f0, test_loss = 1.1974927f0)\n",
      "└ @ Main c:\\Users\\victo\\OneDrive\\Documents\\Desktop_New\\Dissertation_Project_Parts\\eSGC_Code_Parts\\jl_notebook_cell_df34fa98e69747e1a8f8a730347b8e2f_W3sZmlsZQ==.jl:19\n",
      "┌ Info: (epoch = 20, train_loss = 0.9134813f0, test_loss = 1.2014931f0)\n",
      "└ @ Main c:\\Users\\victo\\OneDrive\\Documents\\Desktop_New\\Dissertation_Project_Parts\\eSGC_Code_Parts\\jl_notebook_cell_df34fa98e69747e1a8f8a730347b8e2f_W3sZmlsZQ==.jl:19\n",
      "┌ Info: (epoch = 21, train_loss = 0.909754f0, test_loss = 1.1998984f0)\n",
      "└ @ Main c:\\Users\\victo\\OneDrive\\Documents\\Desktop_New\\Dissertation_Project_Parts\\eSGC_Code_Parts\\jl_notebook_cell_df34fa98e69747e1a8f8a730347b8e2f_W3sZmlsZQ==.jl:19\n",
      "┌ Info: (epoch = 22, train_loss = 0.9059143f0, test_loss = 1.2006184f0)\n",
      "└ @ Main c:\\Users\\victo\\OneDrive\\Documents\\Desktop_New\\Dissertation_Project_Parts\\eSGC_Code_Parts\\jl_notebook_cell_df34fa98e69747e1a8f8a730347b8e2f_W3sZmlsZQ==.jl:19\n",
      "┌ Info: (epoch = 23, train_loss = 0.9024832f0, test_loss = 1.2025934f0)\n",
      "└ @ Main c:\\Users\\victo\\OneDrive\\Documents\\Desktop_New\\Dissertation_Project_Parts\\eSGC_Code_Parts\\jl_notebook_cell_df34fa98e69747e1a8f8a730347b8e2f_W3sZmlsZQ==.jl:19\n",
      "┌ Info: (epoch = 24, train_loss = 0.8998751f0, test_loss = 1.2041994f0)\n",
      "└ @ Main c:\\Users\\victo\\OneDrive\\Documents\\Desktop_New\\Dissertation_Project_Parts\\eSGC_Code_Parts\\jl_notebook_cell_df34fa98e69747e1a8f8a730347b8e2f_W3sZmlsZQ==.jl:19\n",
      "┌ Info: (epoch = 25, train_loss = 0.89638525f0, test_loss = 1.2058841f0)\n",
      "└ @ Main c:\\Users\\victo\\OneDrive\\Documents\\Desktop_New\\Dissertation_Project_Parts\\eSGC_Code_Parts\\jl_notebook_cell_df34fa98e69747e1a8f8a730347b8e2f_W3sZmlsZQ==.jl:19\n",
      "┌ Info: (epoch = 26, train_loss = 0.8933191f0, test_loss = 1.2044194f0)\n",
      "└ @ Main c:\\Users\\victo\\OneDrive\\Documents\\Desktop_New\\Dissertation_Project_Parts\\eSGC_Code_Parts\\jl_notebook_cell_df34fa98e69747e1a8f8a730347b8e2f_W3sZmlsZQ==.jl:19\n",
      "┌ Info: (epoch = 27, train_loss = 0.8906997f0, test_loss = 1.2052127f0)\n",
      "└ @ Main c:\\Users\\victo\\OneDrive\\Documents\\Desktop_New\\Dissertation_Project_Parts\\eSGC_Code_Parts\\jl_notebook_cell_df34fa98e69747e1a8f8a730347b8e2f_W3sZmlsZQ==.jl:19\n",
      "┌ Info: (epoch = 28, train_loss = 0.88804877f0, test_loss = 1.2066195f0)\n",
      "└ @ Main c:\\Users\\victo\\OneDrive\\Documents\\Desktop_New\\Dissertation_Project_Parts\\eSGC_Code_Parts\\jl_notebook_cell_df34fa98e69747e1a8f8a730347b8e2f_W3sZmlsZQ==.jl:19\n",
      "┌ Info: (epoch = 29, train_loss = 0.8845454f0, test_loss = 1.209162f0)\n",
      "└ @ Main c:\\Users\\victo\\OneDrive\\Documents\\Desktop_New\\Dissertation_Project_Parts\\eSGC_Code_Parts\\jl_notebook_cell_df34fa98e69747e1a8f8a730347b8e2f_W3sZmlsZQ==.jl:19\n",
      "┌ Info: (epoch = 30, train_loss = 0.8820187f0, test_loss = 1.2082998f0)\n",
      "└ @ Main c:\\Users\\victo\\OneDrive\\Documents\\Desktop_New\\Dissertation_Project_Parts\\eSGC_Code_Parts\\jl_notebook_cell_df34fa98e69747e1a8f8a730347b8e2f_W3sZmlsZQ==.jl:19\n",
      "┌ Info: (epoch = 31, train_loss = 0.87900877f0, test_loss = 1.2078984f0)\n",
      "└ @ Main c:\\Users\\victo\\OneDrive\\Documents\\Desktop_New\\Dissertation_Project_Parts\\eSGC_Code_Parts\\jl_notebook_cell_df34fa98e69747e1a8f8a730347b8e2f_W3sZmlsZQ==.jl:19\n",
      "┌ Info: (epoch = 32, train_loss = 0.8762081f0, test_loss = 1.209506f0)\n",
      "└ @ Main c:\\Users\\victo\\OneDrive\\Documents\\Desktop_New\\Dissertation_Project_Parts\\eSGC_Code_Parts\\jl_notebook_cell_df34fa98e69747e1a8f8a730347b8e2f_W3sZmlsZQ==.jl:19\n",
      "┌ Info: (epoch = 33, train_loss = 0.8733642f0, test_loss = 1.2134221f0)\n",
      "└ @ Main c:\\Users\\victo\\OneDrive\\Documents\\Desktop_New\\Dissertation_Project_Parts\\eSGC_Code_Parts\\jl_notebook_cell_df34fa98e69747e1a8f8a730347b8e2f_W3sZmlsZQ==.jl:19\n",
      "┌ Info: (epoch = 34, train_loss = 0.87080324f0, test_loss = 1.2130307f0)\n",
      "└ @ Main c:\\Users\\victo\\OneDrive\\Documents\\Desktop_New\\Dissertation_Project_Parts\\eSGC_Code_Parts\\jl_notebook_cell_df34fa98e69747e1a8f8a730347b8e2f_W3sZmlsZQ==.jl:19\n",
      "┌ Info: (epoch = 35, train_loss = 0.86896574f0, test_loss = 1.2165232f0)\n",
      "└ @ Main c:\\Users\\victo\\OneDrive\\Documents\\Desktop_New\\Dissertation_Project_Parts\\eSGC_Code_Parts\\jl_notebook_cell_df34fa98e69747e1a8f8a730347b8e2f_W3sZmlsZQ==.jl:19\n",
      "┌ Info: (epoch = 36, train_loss = 0.86589324f0, test_loss = 1.2155789f0)\n",
      "└ @ Main c:\\Users\\victo\\OneDrive\\Documents\\Desktop_New\\Dissertation_Project_Parts\\eSGC_Code_Parts\\jl_notebook_cell_df34fa98e69747e1a8f8a730347b8e2f_W3sZmlsZQ==.jl:19\n",
      "┌ Info: (epoch = 37, train_loss = 0.8632556f0, test_loss = 1.2167044f0)\n",
      "└ @ Main c:\\Users\\victo\\OneDrive\\Documents\\Desktop_New\\Dissertation_Project_Parts\\eSGC_Code_Parts\\jl_notebook_cell_df34fa98e69747e1a8f8a730347b8e2f_W3sZmlsZQ==.jl:19\n",
      "┌ Info: (epoch = 38, train_loss = 0.8604436f0, test_loss = 1.2199843f0)\n",
      "└ @ Main c:\\Users\\victo\\OneDrive\\Documents\\Desktop_New\\Dissertation_Project_Parts\\eSGC_Code_Parts\\jl_notebook_cell_df34fa98e69747e1a8f8a730347b8e2f_W3sZmlsZQ==.jl:19\n",
      "┌ Info: (epoch = 39, train_loss = 0.85812515f0, test_loss = 1.2221285f0)\n",
      "└ @ Main c:\\Users\\victo\\OneDrive\\Documents\\Desktop_New\\Dissertation_Project_Parts\\eSGC_Code_Parts\\jl_notebook_cell_df34fa98e69747e1a8f8a730347b8e2f_W3sZmlsZQ==.jl:19\n",
      "┌ Info: (epoch = 40, train_loss = 0.85644186f0, test_loss = 1.2182914f0)\n",
      "└ @ Main c:\\Users\\victo\\OneDrive\\Documents\\Desktop_New\\Dissertation_Project_Parts\\eSGC_Code_Parts\\jl_notebook_cell_df34fa98e69747e1a8f8a730347b8e2f_W3sZmlsZQ==.jl:19\n",
      "┌ Info: (epoch = 41, train_loss = 0.8532103f0, test_loss = 1.22379f0)\n",
      "└ @ Main c:\\Users\\victo\\OneDrive\\Documents\\Desktop_New\\Dissertation_Project_Parts\\eSGC_Code_Parts\\jl_notebook_cell_df34fa98e69747e1a8f8a730347b8e2f_W3sZmlsZQ==.jl:19\n",
      "┌ Info: (epoch = 42, train_loss = 0.85130423f0, test_loss = 1.2182797f0)\n",
      "└ @ Main c:\\Users\\victo\\OneDrive\\Documents\\Desktop_New\\Dissertation_Project_Parts\\eSGC_Code_Parts\\jl_notebook_cell_df34fa98e69747e1a8f8a730347b8e2f_W3sZmlsZQ==.jl:19\n",
      "┌ Info: (epoch = 43, train_loss = 0.84894264f0, test_loss = 1.2220352f0)\n",
      "└ @ Main c:\\Users\\victo\\OneDrive\\Documents\\Desktop_New\\Dissertation_Project_Parts\\eSGC_Code_Parts\\jl_notebook_cell_df34fa98e69747e1a8f8a730347b8e2f_W3sZmlsZQ==.jl:19\n",
      "┌ Info: (epoch = 44, train_loss = 0.8474097f0, test_loss = 1.2256962f0)\n",
      "└ @ Main c:\\Users\\victo\\OneDrive\\Documents\\Desktop_New\\Dissertation_Project_Parts\\eSGC_Code_Parts\\jl_notebook_cell_df34fa98e69747e1a8f8a730347b8e2f_W3sZmlsZQ==.jl:19\n",
      "┌ Info: (epoch = 45, train_loss = 0.8448307f0, test_loss = 1.2249557f0)\n",
      "└ @ Main c:\\Users\\victo\\OneDrive\\Documents\\Desktop_New\\Dissertation_Project_Parts\\eSGC_Code_Parts\\jl_notebook_cell_df34fa98e69747e1a8f8a730347b8e2f_W3sZmlsZQ==.jl:19\n",
      "┌ Info: (epoch = 46, train_loss = 0.84229857f0, test_loss = 1.2265636f0)\n",
      "└ @ Main c:\\Users\\victo\\OneDrive\\Documents\\Desktop_New\\Dissertation_Project_Parts\\eSGC_Code_Parts\\jl_notebook_cell_df34fa98e69747e1a8f8a730347b8e2f_W3sZmlsZQ==.jl:19\n",
      "┌ Info: (epoch = 47, train_loss = 0.8402309f0, test_loss = 1.2278277f0)\n",
      "└ @ Main c:\\Users\\victo\\OneDrive\\Documents\\Desktop_New\\Dissertation_Project_Parts\\eSGC_Code_Parts\\jl_notebook_cell_df34fa98e69747e1a8f8a730347b8e2f_W3sZmlsZQ==.jl:19\n",
      "┌ Info: (epoch = 48, train_loss = 0.8379691f0, test_loss = 1.2293211f0)\n",
      "└ @ Main c:\\Users\\victo\\OneDrive\\Documents\\Desktop_New\\Dissertation_Project_Parts\\eSGC_Code_Parts\\jl_notebook_cell_df34fa98e69747e1a8f8a730347b8e2f_W3sZmlsZQ==.jl:19\n",
      "┌ Info: (epoch = 49, train_loss = 0.8355538f0, test_loss = 1.2315161f0)\n",
      "└ @ Main c:\\Users\\victo\\OneDrive\\Documents\\Desktop_New\\Dissertation_Project_Parts\\eSGC_Code_Parts\\jl_notebook_cell_df34fa98e69747e1a8f8a730347b8e2f_W3sZmlsZQ==.jl:19\n",
      "┌ Info: (epoch = 50, train_loss = 0.833979f0, test_loss = 1.2319185f0)\n",
      "└ @ Main c:\\Users\\victo\\OneDrive\\Documents\\Desktop_New\\Dissertation_Project_Parts\\eSGC_Code_Parts\\jl_notebook_cell_df34fa98e69747e1a8f8a730347b8e2f_W3sZmlsZQ==.jl:19\n",
      "┌ Info: (epoch = 51, train_loss = 0.8321275f0, test_loss = 1.2294465f0)\n",
      "└ @ Main c:\\Users\\victo\\OneDrive\\Documents\\Desktop_New\\Dissertation_Project_Parts\\eSGC_Code_Parts\\jl_notebook_cell_df34fa98e69747e1a8f8a730347b8e2f_W3sZmlsZQ==.jl:19\n",
      "┌ Info: (epoch = 52, train_loss = 0.82966995f0, test_loss = 1.2322947f0)\n",
      "└ @ Main c:\\Users\\victo\\OneDrive\\Documents\\Desktop_New\\Dissertation_Project_Parts\\eSGC_Code_Parts\\jl_notebook_cell_df34fa98e69747e1a8f8a730347b8e2f_W3sZmlsZQ==.jl:19\n",
      "┌ Info: (epoch = 53, train_loss = 0.82794726f0, test_loss = 1.2319696f0)\n",
      "└ @ Main c:\\Users\\victo\\OneDrive\\Documents\\Desktop_New\\Dissertation_Project_Parts\\eSGC_Code_Parts\\jl_notebook_cell_df34fa98e69747e1a8f8a730347b8e2f_W3sZmlsZQ==.jl:19\n",
      "┌ Info: (epoch = 54, train_loss = 0.82630914f0, test_loss = 1.2371246f0)\n",
      "└ @ Main c:\\Users\\victo\\OneDrive\\Documents\\Desktop_New\\Dissertation_Project_Parts\\eSGC_Code_Parts\\jl_notebook_cell_df34fa98e69747e1a8f8a730347b8e2f_W3sZmlsZQ==.jl:19\n",
      "┌ Info: (epoch = 55, train_loss = 0.8236776f0, test_loss = 1.2370204f0)\n",
      "└ @ Main c:\\Users\\victo\\OneDrive\\Documents\\Desktop_New\\Dissertation_Project_Parts\\eSGC_Code_Parts\\jl_notebook_cell_df34fa98e69747e1a8f8a730347b8e2f_W3sZmlsZQ==.jl:19\n",
      "┌ Info: (epoch = 56, train_loss = 0.8217342f0, test_loss = 1.2390214f0)\n",
      "└ @ Main c:\\Users\\victo\\OneDrive\\Documents\\Desktop_New\\Dissertation_Project_Parts\\eSGC_Code_Parts\\jl_notebook_cell_df34fa98e69747e1a8f8a730347b8e2f_W3sZmlsZQ==.jl:19\n",
      "┌ Info: (epoch = 57, train_loss = 0.82000375f0, test_loss = 1.2380333f0)\n",
      "└ @ Main c:\\Users\\victo\\OneDrive\\Documents\\Desktop_New\\Dissertation_Project_Parts\\eSGC_Code_Parts\\jl_notebook_cell_df34fa98e69747e1a8f8a730347b8e2f_W3sZmlsZQ==.jl:19\n",
      "┌ Info: (epoch = 58, train_loss = 0.81810915f0, test_loss = 1.2420677f0)\n",
      "└ @ Main c:\\Users\\victo\\OneDrive\\Documents\\Desktop_New\\Dissertation_Project_Parts\\eSGC_Code_Parts\\jl_notebook_cell_df34fa98e69747e1a8f8a730347b8e2f_W3sZmlsZQ==.jl:19\n",
      "┌ Info: (epoch = 59, train_loss = 0.8166953f0, test_loss = 1.2403753f0)\n",
      "└ @ Main c:\\Users\\victo\\OneDrive\\Documents\\Desktop_New\\Dissertation_Project_Parts\\eSGC_Code_Parts\\jl_notebook_cell_df34fa98e69747e1a8f8a730347b8e2f_W3sZmlsZQ==.jl:19\n",
      "┌ Info: (epoch = 60, train_loss = 0.81407416f0, test_loss = 1.2409419f0)\n",
      "└ @ Main c:\\Users\\victo\\OneDrive\\Documents\\Desktop_New\\Dissertation_Project_Parts\\eSGC_Code_Parts\\jl_notebook_cell_df34fa98e69747e1a8f8a730347b8e2f_W3sZmlsZQ==.jl:19\n",
      "┌ Info: (epoch = 61, train_loss = 0.81177545f0, test_loss = 1.2437197f0)\n",
      "└ @ Main c:\\Users\\victo\\OneDrive\\Documents\\Desktop_New\\Dissertation_Project_Parts\\eSGC_Code_Parts\\jl_notebook_cell_df34fa98e69747e1a8f8a730347b8e2f_W3sZmlsZQ==.jl:19\n",
      "┌ Info: (epoch = 62, train_loss = 0.81080353f0, test_loss = 1.2452163f0)\n",
      "└ @ Main c:\\Users\\victo\\OneDrive\\Documents\\Desktop_New\\Dissertation_Project_Parts\\eSGC_Code_Parts\\jl_notebook_cell_df34fa98e69747e1a8f8a730347b8e2f_W3sZmlsZQ==.jl:19\n",
      "┌ Info: (epoch = 63, train_loss = 0.8085476f0, test_loss = 1.242636f0)\n",
      "└ @ Main c:\\Users\\victo\\OneDrive\\Documents\\Desktop_New\\Dissertation_Project_Parts\\eSGC_Code_Parts\\jl_notebook_cell_df34fa98e69747e1a8f8a730347b8e2f_W3sZmlsZQ==.jl:19\n",
      "┌ Info: (epoch = 64, train_loss = 0.80701363f0, test_loss = 1.2479305f0)\n",
      "└ @ Main c:\\Users\\victo\\OneDrive\\Documents\\Desktop_New\\Dissertation_Project_Parts\\eSGC_Code_Parts\\jl_notebook_cell_df34fa98e69747e1a8f8a730347b8e2f_W3sZmlsZQ==.jl:19\n",
      "┌ Info: (epoch = 65, train_loss = 0.8050764f0, test_loss = 1.2458233f0)\n",
      "└ @ Main c:\\Users\\victo\\OneDrive\\Documents\\Desktop_New\\Dissertation_Project_Parts\\eSGC_Code_Parts\\jl_notebook_cell_df34fa98e69747e1a8f8a730347b8e2f_W3sZmlsZQ==.jl:19\n",
      "┌ Info: (epoch = 66, train_loss = 0.8040154f0, test_loss = 1.2492797f0)\n",
      "└ @ Main c:\\Users\\victo\\OneDrive\\Documents\\Desktop_New\\Dissertation_Project_Parts\\eSGC_Code_Parts\\jl_notebook_cell_df34fa98e69747e1a8f8a730347b8e2f_W3sZmlsZQ==.jl:19\n",
      "┌ Info: (epoch = 67, train_loss = 0.8026929f0, test_loss = 1.2503207f0)\n",
      "└ @ Main c:\\Users\\victo\\OneDrive\\Documents\\Desktop_New\\Dissertation_Project_Parts\\eSGC_Code_Parts\\jl_notebook_cell_df34fa98e69747e1a8f8a730347b8e2f_W3sZmlsZQ==.jl:19\n",
      "┌ Info: (epoch = 68, train_loss = 0.80021346f0, test_loss = 1.2544104f0)\n",
      "└ @ Main c:\\Users\\victo\\OneDrive\\Documents\\Desktop_New\\Dissertation_Project_Parts\\eSGC_Code_Parts\\jl_notebook_cell_df34fa98e69747e1a8f8a730347b8e2f_W3sZmlsZQ==.jl:19\n",
      "┌ Info: (epoch = 69, train_loss = 0.79834867f0, test_loss = 1.2510287f0)\n",
      "└ @ Main c:\\Users\\victo\\OneDrive\\Documents\\Desktop_New\\Dissertation_Project_Parts\\eSGC_Code_Parts\\jl_notebook_cell_df34fa98e69747e1a8f8a730347b8e2f_W3sZmlsZQ==.jl:19\n",
      "┌ Info: (epoch = 70, train_loss = 0.79790825f0, test_loss = 1.2595243f0)\n",
      "└ @ Main c:\\Users\\victo\\OneDrive\\Documents\\Desktop_New\\Dissertation_Project_Parts\\eSGC_Code_Parts\\jl_notebook_cell_df34fa98e69747e1a8f8a730347b8e2f_W3sZmlsZQ==.jl:19\n",
      "┌ Info: (epoch = 71, train_loss = 0.79489356f0, test_loss = 1.2641917f0)\n",
      "└ @ Main c:\\Users\\victo\\OneDrive\\Documents\\Desktop_New\\Dissertation_Project_Parts\\eSGC_Code_Parts\\jl_notebook_cell_df34fa98e69747e1a8f8a730347b8e2f_W3sZmlsZQ==.jl:19\n",
      "┌ Info: (epoch = 72, train_loss = 0.7926083f0, test_loss = 1.2565031f0)\n",
      "└ @ Main c:\\Users\\victo\\OneDrive\\Documents\\Desktop_New\\Dissertation_Project_Parts\\eSGC_Code_Parts\\jl_notebook_cell_df34fa98e69747e1a8f8a730347b8e2f_W3sZmlsZQ==.jl:19\n",
      "┌ Info: (epoch = 73, train_loss = 0.7920497f0, test_loss = 1.2579416f0)\n",
      "└ @ Main c:\\Users\\victo\\OneDrive\\Documents\\Desktop_New\\Dissertation_Project_Parts\\eSGC_Code_Parts\\jl_notebook_cell_df34fa98e69747e1a8f8a730347b8e2f_W3sZmlsZQ==.jl:19\n",
      "┌ Info: (epoch = 74, train_loss = 0.7896717f0, test_loss = 1.2549077f0)\n",
      "└ @ Main c:\\Users\\victo\\OneDrive\\Documents\\Desktop_New\\Dissertation_Project_Parts\\eSGC_Code_Parts\\jl_notebook_cell_df34fa98e69747e1a8f8a730347b8e2f_W3sZmlsZQ==.jl:19\n",
      "┌ Info: (epoch = 75, train_loss = 0.788547f0, test_loss = 1.2604113f0)\n",
      "└ @ Main c:\\Users\\victo\\OneDrive\\Documents\\Desktop_New\\Dissertation_Project_Parts\\eSGC_Code_Parts\\jl_notebook_cell_df34fa98e69747e1a8f8a730347b8e2f_W3sZmlsZQ==.jl:19\n",
      "┌ Info: (epoch = 76, train_loss = 0.7864298f0, test_loss = 1.2613609f0)\n",
      "└ @ Main c:\\Users\\victo\\OneDrive\\Documents\\Desktop_New\\Dissertation_Project_Parts\\eSGC_Code_Parts\\jl_notebook_cell_df34fa98e69747e1a8f8a730347b8e2f_W3sZmlsZQ==.jl:19\n",
      "┌ Info: (epoch = 77, train_loss = 0.78431803f0, test_loss = 1.2678446f0)\n",
      "└ @ Main c:\\Users\\victo\\OneDrive\\Documents\\Desktop_New\\Dissertation_Project_Parts\\eSGC_Code_Parts\\jl_notebook_cell_df34fa98e69747e1a8f8a730347b8e2f_W3sZmlsZQ==.jl:19\n",
      "┌ Info: (epoch = 78, train_loss = 0.78260314f0, test_loss = 1.2667568f0)\n",
      "└ @ Main c:\\Users\\victo\\OneDrive\\Documents\\Desktop_New\\Dissertation_Project_Parts\\eSGC_Code_Parts\\jl_notebook_cell_df34fa98e69747e1a8f8a730347b8e2f_W3sZmlsZQ==.jl:19\n",
      "┌ Info: (epoch = 79, train_loss = 0.78050697f0, test_loss = 1.2638656f0)\n",
      "└ @ Main c:\\Users\\victo\\OneDrive\\Documents\\Desktop_New\\Dissertation_Project_Parts\\eSGC_Code_Parts\\jl_notebook_cell_df34fa98e69747e1a8f8a730347b8e2f_W3sZmlsZQ==.jl:19\n",
      "┌ Info: (epoch = 80, train_loss = 0.7801779f0, test_loss = 1.2674469f0)\n",
      "└ @ Main c:\\Users\\victo\\OneDrive\\Documents\\Desktop_New\\Dissertation_Project_Parts\\eSGC_Code_Parts\\jl_notebook_cell_df34fa98e69747e1a8f8a730347b8e2f_W3sZmlsZQ==.jl:19\n",
      "┌ Info: (epoch = 81, train_loss = 0.77849716f0, test_loss = 1.2670288f0)\n",
      "└ @ Main c:\\Users\\victo\\OneDrive\\Documents\\Desktop_New\\Dissertation_Project_Parts\\eSGC_Code_Parts\\jl_notebook_cell_df34fa98e69747e1a8f8a730347b8e2f_W3sZmlsZQ==.jl:19\n",
      "┌ Info: (epoch = 82, train_loss = 0.77632225f0, test_loss = 1.26751f0)\n",
      "└ @ Main c:\\Users\\victo\\OneDrive\\Documents\\Desktop_New\\Dissertation_Project_Parts\\eSGC_Code_Parts\\jl_notebook_cell_df34fa98e69747e1a8f8a730347b8e2f_W3sZmlsZQ==.jl:19\n",
      "┌ Info: (epoch = 83, train_loss = 0.7744462f0, test_loss = 1.2720687f0)\n",
      "└ @ Main c:\\Users\\victo\\OneDrive\\Documents\\Desktop_New\\Dissertation_Project_Parts\\eSGC_Code_Parts\\jl_notebook_cell_df34fa98e69747e1a8f8a730347b8e2f_W3sZmlsZQ==.jl:19\n",
      "┌ Info: (epoch = 84, train_loss = 0.7732246f0, test_loss = 1.2705382f0)\n",
      "└ @ Main c:\\Users\\victo\\OneDrive\\Documents\\Desktop_New\\Dissertation_Project_Parts\\eSGC_Code_Parts\\jl_notebook_cell_df34fa98e69747e1a8f8a730347b8e2f_W3sZmlsZQ==.jl:19\n",
      "┌ Info: (epoch = 85, train_loss = 0.77206224f0, test_loss = 1.2783884f0)\n",
      "└ @ Main c:\\Users\\victo\\OneDrive\\Documents\\Desktop_New\\Dissertation_Project_Parts\\eSGC_Code_Parts\\jl_notebook_cell_df34fa98e69747e1a8f8a730347b8e2f_W3sZmlsZQ==.jl:19\n",
      "┌ Info: (epoch = 86, train_loss = 0.77030075f0, test_loss = 1.2741736f0)\n",
      "└ @ Main c:\\Users\\victo\\OneDrive\\Documents\\Desktop_New\\Dissertation_Project_Parts\\eSGC_Code_Parts\\jl_notebook_cell_df34fa98e69747e1a8f8a730347b8e2f_W3sZmlsZQ==.jl:19\n",
      "┌ Info: (epoch = 87, train_loss = 0.76920533f0, test_loss = 1.2758015f0)\n",
      "└ @ Main c:\\Users\\victo\\OneDrive\\Documents\\Desktop_New\\Dissertation_Project_Parts\\eSGC_Code_Parts\\jl_notebook_cell_df34fa98e69747e1a8f8a730347b8e2f_W3sZmlsZQ==.jl:19\n",
      "┌ Info: (epoch = 88, train_loss = 0.7663801f0, test_loss = 1.2778137f0)\n",
      "└ @ Main c:\\Users\\victo\\OneDrive\\Documents\\Desktop_New\\Dissertation_Project_Parts\\eSGC_Code_Parts\\jl_notebook_cell_df34fa98e69747e1a8f8a730347b8e2f_W3sZmlsZQ==.jl:19\n",
      "┌ Info: (epoch = 89, train_loss = 0.76476324f0, test_loss = 1.2785537f0)\n",
      "└ @ Main c:\\Users\\victo\\OneDrive\\Documents\\Desktop_New\\Dissertation_Project_Parts\\eSGC_Code_Parts\\jl_notebook_cell_df34fa98e69747e1a8f8a730347b8e2f_W3sZmlsZQ==.jl:19\n",
      "┌ Info: (epoch = 90, train_loss = 0.7632945f0, test_loss = 1.2715377f0)\n",
      "└ @ Main c:\\Users\\victo\\OneDrive\\Documents\\Desktop_New\\Dissertation_Project_Parts\\eSGC_Code_Parts\\jl_notebook_cell_df34fa98e69747e1a8f8a730347b8e2f_W3sZmlsZQ==.jl:19\n",
      "┌ Info: (epoch = 91, train_loss = 0.7617964f0, test_loss = 1.2741258f0)\n",
      "└ @ Main c:\\Users\\victo\\OneDrive\\Documents\\Desktop_New\\Dissertation_Project_Parts\\eSGC_Code_Parts\\jl_notebook_cell_df34fa98e69747e1a8f8a730347b8e2f_W3sZmlsZQ==.jl:19\n",
      "┌ Info: (epoch = 92, train_loss = 0.760871f0, test_loss = 1.2700377f0)\n",
      "└ @ Main c:\\Users\\victo\\OneDrive\\Documents\\Desktop_New\\Dissertation_Project_Parts\\eSGC_Code_Parts\\jl_notebook_cell_df34fa98e69747e1a8f8a730347b8e2f_W3sZmlsZQ==.jl:19\n",
      "┌ Info: (epoch = 93, train_loss = 0.7598331f0, test_loss = 1.2828705f0)\n",
      "└ @ Main c:\\Users\\victo\\OneDrive\\Documents\\Desktop_New\\Dissertation_Project_Parts\\eSGC_Code_Parts\\jl_notebook_cell_df34fa98e69747e1a8f8a730347b8e2f_W3sZmlsZQ==.jl:19\n",
      "┌ Info: (epoch = 94, train_loss = 0.75769347f0, test_loss = 1.2845985f0)\n",
      "└ @ Main c:\\Users\\victo\\OneDrive\\Documents\\Desktop_New\\Dissertation_Project_Parts\\eSGC_Code_Parts\\jl_notebook_cell_df34fa98e69747e1a8f8a730347b8e2f_W3sZmlsZQ==.jl:19\n",
      "┌ Info: (epoch = 95, train_loss = 0.75649256f0, test_loss = 1.2851388f0)\n",
      "└ @ Main c:\\Users\\victo\\OneDrive\\Documents\\Desktop_New\\Dissertation_Project_Parts\\eSGC_Code_Parts\\jl_notebook_cell_df34fa98e69747e1a8f8a730347b8e2f_W3sZmlsZQ==.jl:19\n",
      "┌ Info: (epoch = 96, train_loss = 0.75463617f0, test_loss = 1.2822403f0)\n",
      "└ @ Main c:\\Users\\victo\\OneDrive\\Documents\\Desktop_New\\Dissertation_Project_Parts\\eSGC_Code_Parts\\jl_notebook_cell_df34fa98e69747e1a8f8a730347b8e2f_W3sZmlsZQ==.jl:19\n",
      "┌ Info: (epoch = 97, train_loss = 0.7527742f0, test_loss = 1.2856163f0)\n",
      "└ @ Main c:\\Users\\victo\\OneDrive\\Documents\\Desktop_New\\Dissertation_Project_Parts\\eSGC_Code_Parts\\jl_notebook_cell_df34fa98e69747e1a8f8a730347b8e2f_W3sZmlsZQ==.jl:19\n",
      "┌ Info: (epoch = 98, train_loss = 0.7518803f0, test_loss = 1.2894766f0)\n",
      "└ @ Main c:\\Users\\victo\\OneDrive\\Documents\\Desktop_New\\Dissertation_Project_Parts\\eSGC_Code_Parts\\jl_notebook_cell_df34fa98e69747e1a8f8a730347b8e2f_W3sZmlsZQ==.jl:19\n",
      "┌ Info: (epoch = 99, train_loss = 0.7497002f0, test_loss = 1.2869589f0)\n",
      "└ @ Main c:\\Users\\victo\\OneDrive\\Documents\\Desktop_New\\Dissertation_Project_Parts\\eSGC_Code_Parts\\jl_notebook_cell_df34fa98e69747e1a8f8a730347b8e2f_W3sZmlsZQ==.jl:19\n",
      "┌ Info: (epoch = 100, train_loss = 0.7487464f0, test_loss = 1.2892878f0)\n",
      "└ @ Main c:\\Users\\victo\\OneDrive\\Documents\\Desktop_New\\Dissertation_Project_Parts\\eSGC_Code_Parts\\jl_notebook_cell_df34fa98e69747e1a8f8a730347b8e2f_W3sZmlsZQ==.jl:19\n"
     ]
    }
   ],
   "source": [
    "train_graphs, test_graphs = MLUtils.splitobs(all_graphs, at=0.8)\n",
    "\n",
    "train_loader = DataLoader(train_graphs, \n",
    "                batchsize=32, shuffle=true, collate=true)\n",
    "test_loader = DataLoader(test_graphs, \n",
    "                batchsize=32, shuffle=false, collate=true)\n",
    "\n",
    "loss(model, g::GNNGraph) = mean((vec(model(g, g.x)) - g.y).^2)\n",
    "\n",
    "loss(model, loader) = mean(loss(model, g |> device) for g in loader)\n",
    "\n",
    "for epoch in 1:100\n",
    "    for g in train_loader\n",
    "        g = g |> device\n",
    "        grad = gradient(model -> loss(model, g), model)\n",
    "        Flux.update!(opt, model, grad[1])\n",
    "    end\n",
    "\n",
    "    @info (; epoch, train_loss=loss(model, train_loader), test_loss=loss(model, test_loader))\n",
    "end"
   ]
  },
  {
   "cell_type": "code",
   "execution_count": 5,
   "metadata": {},
   "outputs": [
    {
     "data": {
      "text/plain": [
       "GNNHeteroGraph:\n",
       "  num_nodes: Dict()\n",
       "  num_edges: Dict()"
      ]
     },
     "metadata": {},
     "output_type": "display_data"
    }
   ],
   "source": [
    "# We now derived Heterogenity of the eSCG using Synthethic Dataset\n",
    "\n",
    "#Heterogeneous graphs (also called heterographs), are graphs where each node has a type, \n",
    "#that we denote with symbols such as :user and :location. \n",
    "#Relations such as :rate or :like can connect nodes of different types.\n",
    "# We call a 3 parameters (source_node_type, relation_type, target_node_type) \n",
    "#the type of a edge, e.g. (:user, :rate, :location).\n",
    "\n",
    "# We use GraphNeuralNetworks.jl heterographs in GNNHeteroGraph to implement the features\n",
    "\n",
    "g = GNNHeteroGraph()\n"
   ]
  },
  {
   "cell_type": "code",
   "execution_count": 6,
   "metadata": {},
   "outputs": [
    {
     "data": {
      "text/plain": [
       "GNNHeteroGraph:\n",
       "  num_nodes: Dict(:actor => 9, :location => 13, :user => 3)\n",
       "  num_edges: Dict((:user, :like, :actor) => 4, (:user, :rate, :location) => 4)"
      ]
     },
     "metadata": {},
     "output_type": "display_data"
    }
   ],
   "source": [
    "# We define the Heterogenity using the following synthetic data\n",
    "vic = GNNHeteroGraph((:user, :like, :actor) => ([1,2,2,3], [1,3,2,9]),\n",
    "                          (:user, :rate, :location) => ([1,1,2,3], [7,13,5,7]))"
   ]
  },
  {
   "cell_type": "code",
   "execution_count": 7,
   "metadata": {},
   "outputs": [
    {
     "data": {
      "text/plain": [
       "GNNHeteroGraph:\n",
       "  num_nodes: Dict(:location => 13, :user => 3)\n",
       "  num_edges: Dict((:user, :rate, :location) => 4)"
      ]
     },
     "metadata": {},
     "output_type": "display_data"
    }
   ],
   "source": [
    "#We decided to assign the following\n",
    "vic = GNNHeteroGraph((:user, :rate, :location) => ([1,1,2,3], [7,13,5,7]))"
   ]
  },
  {
   "cell_type": "code",
   "execution_count": 8,
   "metadata": {},
   "outputs": [
    {
     "data": {
      "text/plain": [
       "GNNHeteroGraph:\n",
       "  num_nodes: Dict(:actor => 9, :user => 3)\n",
       "  num_edges: Dict((:user, :like, :actor) => 5)"
      ]
     },
     "metadata": {},
     "output_type": "display_data"
    }
   ],
   "source": [
    "#We can add new relations are follows using add_edges.\n",
    "\n",
    "vic = add_edges(g, (:user, :like, :actor) => ([1,2,3,3,3], [3,5,1,9,4]))\n"
   ]
  },
  {
   "cell_type": "code",
   "execution_count": 9,
   "metadata": {},
   "outputs": [
    {
     "data": {
      "text/plain": [
       "GNNHeteroGraph:\n",
       "  num_nodes: Dict(:actor => 8, :user => 5)\n",
       "  num_edges: Dict((:user, :like, :actor) => 5)"
      ]
     },
     "metadata": {},
     "output_type": "display_data"
    }
   ],
   "source": [
    "#Lets add more add_edges\n",
    "vic = add_edges(g, (:user, :like, :actor) => ([1,5,4,3,3], [3,6,1,8,4]))"
   ]
  },
  {
   "cell_type": "code",
   "execution_count": 10,
   "metadata": {},
   "outputs": [
    {
     "data": {
      "text/plain": [
       "GNNHeteroGraph:\n",
       "  num_nodes: Dict(:A => 10, :B => 15)\n",
       "  num_edges: Dict((:A, :to, :B) => 20, (:B, :to, :A) => 20)"
      ]
     },
     "metadata": {},
     "output_type": "display_data"
    }
   ],
   "source": [
    "# Now generate the new  generating random heterographs.\n",
    "\n",
    "vic = rand_bipartite_heterograph((10, 15), 20)"
   ]
  },
  {
   "cell_type": "code",
   "execution_count": 11,
   "metadata": {},
   "outputs": [
    {
     "data": {
      "text/plain": [
       "GNNHeteroGraph:\n",
       "  num_nodes: Dict(:location => 13, :user => 3)\n",
       "  num_edges: Dict((:user, :rate, :location) => 4)"
      ]
     },
     "metadata": {},
     "output_type": "display_data"
    }
   ],
   "source": [
    "#Let us perform simple queries on the heterographs.\n",
    "GNNHeteroGraph((:user, :rate, :location) => ([1,1,2,3], [7,13,5,7]))"
   ]
  },
  {
   "cell_type": "code",
   "execution_count": 12,
   "metadata": {},
   "outputs": [
    {
     "data": {
      "text/plain": [
       "Dict{Symbol, Int64} with 2 entries:\n",
       "  :A => 10\n",
       "  :B => 15"
      ]
     },
     "metadata": {},
     "output_type": "display_data"
    }
   ],
   "source": [
    "vic.num_nodes"
   ]
  },
  {
   "cell_type": "code",
   "execution_count": 13,
   "metadata": {},
   "outputs": [
    {
     "data": {
      "text/plain": [
       "Dict{Tuple{Symbol, Symbol, Symbol}, Int64} with 2 entries:\n",
       "  (:A, :to, :B) => 20\n",
       "  (:B, :to, :A) => 20"
      ]
     },
     "metadata": {},
     "output_type": "display_data"
    }
   ],
   "source": [
    "vic.num_edges"
   ]
  },
  {
   "cell_type": "code",
   "execution_count": 19,
   "metadata": {},
   "outputs": [
    {
     "ename": "KeyError",
     "evalue": "KeyError: key (:user, :rate, :location) not found",
     "output_type": "error",
     "traceback": [
      "KeyError: key (:user, :rate, :location) not found\n",
      "\n",
      "Stacktrace:\n",
      " [1] getindex\n",
      "   @ .\\dict.jl:498 [inlined]\n",
      " [2] edge_index(g::GNNHeteroGraph{Tuple{T, T, Any} where T<:(AbstractVector{<:Integer})}, edge_t::Tuple{Symbol, Symbol, Symbol})\n",
      "   @ GraphNeuralNetworks.GNNGraphs C:\\Users\\victo\\.julia\\packages\\GraphNeuralNetworks\\bXr3h\\src\\GNNGraphs\\query.jl:24\n",
      " [3] top-level scope\n",
      "   @ c:\\Users\\victo\\OneDrive\\Documents\\Desktop_New\\Dissertation_Project_Parts\\eSGC_Code_Parts\\jl_notebook_cell_df34fa98e69747e1a8f8a730347b8e2f_X16sZmlsZQ==.jl:2"
     ]
    }
   ],
   "source": [
    "# source and target node for a given relation\n",
    "edge_index(g, (:user, :rate, :location))"
   ]
  },
  {
   "cell_type": "code",
   "execution_count": 15,
   "metadata": {},
   "outputs": [
    {
     "data": {
      "text/plain": [
       "2-element Vector{Symbol}:\n",
       " :A\n",
       " :B"
      ]
     },
     "metadata": {},
     "output_type": "display_data"
    }
   ],
   "source": [
    "# node types\n",
    "vic.ntypes"
   ]
  },
  {
   "cell_type": "code",
   "execution_count": 16,
   "metadata": {},
   "outputs": [
    {
     "data": {
      "text/plain": [
       "2-element Vector{Tuple{Symbol, Symbol, Symbol}}:\n",
       " (:A, :to, :B)\n",
       " (:B, :to, :A)"
      ]
     },
     "metadata": {},
     "output_type": "display_data"
    }
   ],
   "source": [
    "# edge types\n",
    "vic.etypes"
   ]
  },
  {
   "cell_type": "code",
   "execution_count": 17,
   "metadata": {},
   "outputs": [
    {
     "ename": "KeyError",
     "evalue": "KeyError: key :user not found",
     "output_type": "error",
     "traceback": [
      "KeyError: key :user not found\n",
      "\n",
      "Stacktrace:\n",
      " [1] getindex\n",
      "   @ .\\dict.jl:498 [inlined]\n",
      " [2] getindex(g::GNNHeteroGraph{Tuple{Vector{Int64}, Vector{Int64}, Nothing}}, node_t::Symbol)\n",
      "   @ GraphNeuralNetworks.GNNGraphs C:\\Users\\victo\\.julia\\packages\\GraphNeuralNetworks\\bXr3h\\src\\GNNGraphs\\gnnheterograph.jl:292\n",
      " [3] top-level scope\n",
      "   @ c:\\Users\\victo\\OneDrive\\Documents\\Desktop_New\\Dissertation_Project_Parts\\eSGC_Code_Parts\\jl_notebook_cell_df34fa98e69747e1a8f8a730347b8e2f_X22sZmlsZQ==.jl:1"
     ]
    }
   ],
   "source": [
    "vic[:user].x = rand(Float32, 64, 3);"
   ]
  },
  {
   "cell_type": "code",
   "execution_count": 18,
   "metadata": {},
   "outputs": [
    {
     "ename": "KeyError",
     "evalue": "KeyError: key :user not found",
     "output_type": "error",
     "traceback": [
      "KeyError: key :user not found\n",
      "\n",
      "Stacktrace:\n",
      " [1] getindex\n",
      "   @ .\\dict.jl:498 [inlined]\n",
      " [2] getindex(g::GNNHeteroGraph{Tuple{T, T, Any} where T<:(AbstractVector{<:Integer})}, node_t::Symbol)\n",
      "   @ GraphNeuralNetworks.GNNGraphs C:\\Users\\victo\\.julia\\packages\\GraphNeuralNetworks\\bXr3h\\src\\GNNGraphs\\gnnheterograph.jl:292\n",
      " [3] top-level scope\n",
      "   @ c:\\Users\\victo\\OneDrive\\Documents\\Desktop_New\\Dissertation_Project_Parts\\eSGC_Code_Parts\\jl_notebook_cell_df34fa98e69747e1a8f8a730347b8e2f_X23sZmlsZQ==.jl:1"
     ]
    }
   ],
   "source": [
    "g[:user].x = rand(Float32, 64, 3);"
   ]
  },
  {
   "cell_type": "code",
   "execution_count": 20,
   "metadata": {},
   "outputs": [
    {
     "ename": "KeyError",
     "evalue": "KeyError: key :location not found",
     "output_type": "error",
     "traceback": [
      "KeyError: key :location not found\n",
      "\n",
      "Stacktrace:\n",
      " [1] getindex\n",
      "   @ .\\dict.jl:498 [inlined]\n",
      " [2] getindex(g::GNNHeteroGraph{Tuple{T, T, Any} where T<:(AbstractVector{<:Integer})}, node_t::Symbol)\n",
      "   @ GraphNeuralNetworks.GNNGraphs C:\\Users\\victo\\.julia\\packages\\GraphNeuralNetworks\\bXr3h\\src\\GNNGraphs\\gnnheterograph.jl:292\n",
      " [3] top-level scope\n",
      "   @ c:\\Users\\victo\\OneDrive\\Documents\\Desktop_New\\Dissertation_Project_Parts\\eSGC_Code_Parts\\jl_notebook_cell_df34fa98e69747e1a8f8a730347b8e2f_X24sZmlsZQ==.jl:1"
     ]
    }
   ],
   "source": [
    "g[:location].z = rand(Float32, 64, 13);"
   ]
  },
  {
   "cell_type": "code",
   "execution_count": 23,
   "metadata": {},
   "outputs": [
    {
     "ename": "KeyError",
     "evalue": "KeyError: key (:user, :rate, :location) not found",
     "output_type": "error",
     "traceback": [
      "KeyError: key (:user, :rate, :location) not found\n",
      "\n",
      "Stacktrace:\n",
      " [1] getindex\n",
      "   @ .\\dict.jl:498 [inlined]\n",
      " [2] getindex\n",
      "   @ C:\\Users\\victo\\.julia\\packages\\GraphNeuralNetworks\\bXr3h\\src\\GNNGraphs\\gnnheterograph.jl:298 [inlined]\n",
      " [3] getindex(g::GNNHeteroGraph{Tuple{T, T, Any} where T<:(AbstractVector{<:Integer})}, n1_t::Symbol, rel::Symbol, n2_t::Symbol)\n",
      "   @ GraphNeuralNetworks.GNNGraphs C:\\Users\\victo\\.julia\\packages\\GraphNeuralNetworks\\bXr3h\\src\\GNNGraphs\\gnnheterograph.jl:295\n",
      " [4] top-level scope\n",
      "   @ c:\\Users\\victo\\OneDrive\\Documents\\Desktop_New\\Dissertation_Project_Parts\\eSGC_Code_Parts\\jl_notebook_cell_df34fa98e69747e1a8f8a730347b8e2f_X25sZmlsZQ==.jl:1"
     ]
    }
   ],
   "source": [
    "g[:user, :rate, :location].e = rand(Float32, 64, 4);"
   ]
  },
  {
   "cell_type": "code",
   "execution_count": 24,
   "metadata": {},
   "outputs": [
    {
     "data": {
      "text/plain": [
       "GNNHeteroGraph:\n",
       "  num_nodes: Dict()\n",
       "  num_edges: Dict()"
      ]
     },
     "metadata": {},
     "output_type": "display_data"
    }
   ],
   "source": [
    "g"
   ]
  },
  {
   "cell_type": "code",
   "execution_count": 22,
   "metadata": {},
   "outputs": [
    {
     "data": {
      "text/plain": [
       "GNNHeteroGraph:\n",
       "  num_nodes: Dict(:A => 160, :B => 320)\n",
       "  num_edges: Dict((:A, :to, :B) => 640, (:B, :to, :A) => 640)\n",
       "  num_graphs: 32"
      ]
     },
     "metadata": {},
     "output_type": "display_data"
    }
   ],
   "source": [
    "#heterographs can be batched together.\n",
    "gs = [rand_bipartite_heterograph((5, 10), 20) for _ in 1:32];\n",
    "Flux.batch(gs)"
   ]
  },
  {
   "cell_type": "code",
   "execution_count": 21,
   "metadata": {},
   "outputs": [],
   "source": [
    "#Batching is automatically performed by the DataLoader iterator when the collate option is set to true.\n",
    "using Flux: DataLoader\n",
    "\n",
    "data = [rand_bipartite_heterograph((5, 10), 20, \n",
    "            ndata=Dict(:A=>rand(Float32, 3, 5))) \n",
    "        for _ in 1:320];\n",
    "\n",
    "train_loader = DataLoader(data, batchsize=16, shuffle=true, collate=true)\n",
    "\n",
    "for g in train_loader\n",
    "    @assert g.num_graphs == 16\n",
    "    @assert g.num_nodes[:A] == 80\n",
    "    @assert size(g.ndata[:A].x) == (3, 80)    \n",
    "    # ...\n",
    "end"
   ]
  },
  {
   "cell_type": "code",
   "execution_count": 25,
   "metadata": {},
   "outputs": [],
   "source": [
    "#Hetereogeneous Graphs\n",
    "#The Hetereogeneous Graphs are defined as follows:\n",
    "#GNNHeteroGraph(data; [ndata, edata, gdata, num_nodes])\n",
    "#GNNHeteroGraph(pairs...; [ndata, edata, gdata, num_nodes])\n",
    "\n",
    "\n",
    "#Constructor Arguments definition\n",
    "\n",
    "#data: A dictionary or an iterable object that maps (source_type, edge_type, target_type) triples to (source, target) index vectors (or to (source, target, weight) if also edge weights are present).\n",
    "#pairs: Passing multiple relations as pairs is equivalent to passing data=Dict(pairs...).\n",
    "#ndata: Node features. A dictionary of arrays or named tuple of arrays. The size of the last dimension of each array must be given by g.num_nodes.\n",
    "#edata: Edge features. A dictionary of arrays or named tuple of arrays. Default nothing. The size of the last dimension of each array must be given by g.num_edges. Default nothing.\n",
    "#gdata: Graph features. An array or named tuple of arrays whose last dimension has size num_graphs. Default nothing.\n",
    "#num_nodes: The number of nodes for each type. If not specified, inferred from data. Default nothing."
   ]
  },
  {
   "cell_type": "code",
   "execution_count": 26,
   "metadata": {},
   "outputs": [
    {
     "data": {
      "text/plain": [
       "2×10 Matrix{Float64}:\n",
       " 0.241043  0.108609  0.203528  0.794064  …  0.276927  0.440398  0.0284367\n",
       " 0.633331  0.379275  0.18035   0.635819     0.247961  0.491059  0.260467"
      ]
     },
     "metadata": {},
     "output_type": "display_data"
    }
   ],
   "source": [
    "using GraphNeuralNetworks\n",
    "\n",
    "nA, nB = 10, 20;\n",
    "\n",
    "num_nodes = Dict(:A => nA, :B => nB);\n",
    "\n",
    "edges1 = (rand(1:nA, 20), rand(1:nB, 20))\n",
    "\n",
    "edges2 = (rand(1:nB, 30), rand(1:nA, 30))\n",
    "\n",
    "data = ((:A, :rel1, :B) => edges1, (:B, :rel2, :A) => edges2);\n",
    "\n",
    "hg = GNNHeteroGraph(data; num_nodes)\n",
    "\n",
    "hg.num_edges\n",
    "\n",
    "# Let's add some node features\n",
    "\n",
    "ndata = Dict(:A => (x = rand(2, nA), y = rand(3, num_nodes[:A])),\n",
    "                    :B => rand(10, nB));\n",
    "\n",
    "hg = GNNHeteroGraph(data; num_nodes, ndata)\n",
    "\n",
    "# Access features of nodes of type :A\n",
    "\n",
    "hg.ndata[:A].x"
   ]
  },
  {
   "cell_type": "code",
   "execution_count": 27,
   "metadata": {},
   "outputs": [],
   "source": [
    "# HeteroGraphConv \n",
    "# Heterogeneous Graph Convolutions\n",
    "# Heterogeneous graph convolutions are implemented in the type HeteroGraphConv. \n",
    "#HeteroGraphConv relies on standard graph convolutional layers to perform message passing on the different relations.\n",
    "\n",
    "# It is defined as the following\n",
    "\n",
    "#HeteroGraphConv(itr; aggr = +)\n",
    "#HeteroGraphConv(pairs...; aggr = +)\n",
    "\n",
    "#A convolutional layer for heterogeneous graphs.\n",
    "\n",
    "    #The itr argument is an iterator of pairs of the form edge_t => layer, where edge_t is a 3-tuple of the form (src_node_type, edge_type, dst_node_type), and layer is a convolutional layers for homogeneous graphs.\n",
    "    \n",
    "    #Each convolution is applied to the corresponding relation. Since a node type can be involved in multiple relations, the single convolution outputs have to be aggregated using the aggr function. The default is to sum the outputs.\n",
    "\n",
    "\n",
    "#The Forward Arguments is defined as follows\n",
    "\n",
    "    #gvic::GNNHeteroGraph: The input graph.\n",
    "    #x::Union{NamedTuple,Dict}: The input node features. The keys are node types and the values are node feature tensors.\n",
    "\n",
    "   "
   ]
  },
  {
   "cell_type": "code",
   "execution_count": 28,
   "metadata": {},
   "outputs": [
    {
     "data": {
      "text/plain": [
       "GNNHeteroGraph:\n",
       "  num_nodes: Dict(:A => 10, :B => 15)\n",
       "  num_edges: Dict((:A, :to, :B) => 20, (:B, :to, :A) => 20)"
      ]
     },
     "metadata": {},
     "output_type": "display_data"
    }
   ],
   "source": [
    "#We now implement with synthetic dataset\n",
    "vic = rand_bipartite_heterograph((10, 15), 20)"
   ]
  },
  {
   "cell_type": "code",
   "execution_count": 29,
   "metadata": {},
   "outputs": [],
   "source": [
    "x = (A = rand(Float32, 64, 10), B = rand(Float32, 64, 15));"
   ]
  },
  {
   "cell_type": "code",
   "execution_count": 30,
   "metadata": {},
   "outputs": [],
   "source": [
    "layer = HeteroGraphConv((:A, :to, :B) => GraphConv(64 => 32, relu),\n",
    "                               (:B, :to, :A) => GraphConv(64 => 32, relu));"
   ]
  },
  {
   "cell_type": "code",
   "execution_count": 31,
   "metadata": {},
   "outputs": [],
   "source": [
    "y = layer(vic, x); # output is a named tuple"
   ]
  },
  {
   "cell_type": "code",
   "execution_count": 32,
   "metadata": {},
   "outputs": [
    {
     "data": {
      "text/plain": [
       "true"
      ]
     },
     "metadata": {},
     "output_type": "display_data"
    }
   ],
   "source": [
    "size(y.A) == (32, 10) && size(y.B) == (32, 15)"
   ]
  },
  {
   "cell_type": "code",
   "execution_count": 33,
   "metadata": {},
   "outputs": [],
   "source": [
    "# Proceed to implement the Temporary nature of Graphs\n",
    "#https://arxiv.org/pdf/2101.00414\n",
    "#https://arxiv.org/pdf/1006.5169\n",
    "\n",
    "#Temporal Graphs is a graph with diverse methods, representing time varying graphs with time varying features.\n",
    "\n",
    "#It is presented by \n",
    "#TemporalSnapshotsGNNGraph(snapshots::AbstractVector{<:GNNGraph})\n",
    "\n",
    "#TemporalSnapshotsGNNGraph can store the feature array associated to the graph itself as a DataStore object, and it uses the DataStore objects of each snapshot for the node and edge features. \n",
    "#The features can be passed at construction time or added later.\n",
    "\n",
    "#The construction argument is the varying degree of time\n",
    "#snapshot: a vector of snapshots, where each snapshot must have the same number of nodes."
   ]
  },
  {
   "cell_type": "code",
   "execution_count": 34,
   "metadata": {},
   "outputs": [],
   "source": [
    "using GraphNeuralNetworks"
   ]
  },
  {
   "cell_type": "code",
   "execution_count": 35,
   "metadata": {},
   "outputs": [],
   "source": [
    "snapshots = [rand_graph(10,20) for i in 1:40];"
   ]
  },
  {
   "cell_type": "code",
   "execution_count": 36,
   "metadata": {},
   "outputs": [
    {
     "data": {
      "text/plain": [
       "TemporalSnapshotsGNNGraph:\n",
       "  num_nodes: [10, 10, 10, 10, 10, 10, 10, 10, 10, 10, 10, 10, 10, 10, 10, 10, 10, 10, 10, 10, 10, 10, 10, 10, 10, 10, 10, 10, 10, 10, 10, 10, 10, 10, 10, 10, 10, 10, 10, 10]\n",
       "  num_edges: [20, 20, 20, 20, 20, 20, 20, 20, 20, 20, 20, 20, 20, 20, 20, 20, 20, 20, 20, 20, 20, 20, 20, 20, 20, 20, 20, 20, 20, 20, 20, 20, 20, 20, 20, 20, 20, 20, 20, 20]\n",
       "  num_snapshots: 40"
      ]
     },
     "metadata": {},
     "output_type": "display_data"
    }
   ],
   "source": [
    "vic1 = TemporalSnapshotsGNNGraph(snapshots)"
   ]
  },
  {
   "cell_type": "code",
   "execution_count": 37,
   "metadata": {},
   "outputs": [],
   "source": [
    "vic1.tgdata.x = rand(4); # add temporal graph feature"
   ]
  },
  {
   "cell_type": "code",
   "execution_count": 38,
   "metadata": {},
   "outputs": [
    {
     "data": {
      "text/plain": [
       "TemporalSnapshotsGNNGraph:\n",
       "  num_nodes: [10, 10, 10, 10, 10, 10, 10, 10, 10, 10, 10, 10, 10, 10, 10, 10, 10, 10, 10, 10, 10, 10, 10, 10, 10, 10, 10, 10, 10, 10, 10, 10, 10, 10, 10, 10, 10, 10, 10, 10]\n",
       "  num_edges: [20, 20, 20, 20, 20, 20, 20, 20, 20, 20, 20, 20, 20, 20, 20, 20, 20, 20, 20, 20, 20, 20, 20, 20, 20, 20, 20, 20, 20, 20, 20, 20, 20, 20, 20, 20, 20, 20, 20, 20]\n",
       "  num_snapshots: 40\n",
       "  tgdata:\n",
       "\tx = 4-element Vector{Float64}"
      ]
     },
     "metadata": {},
     "output_type": "display_data"
    }
   ],
   "source": [
    "vic1"
   ]
  },
  {
   "cell_type": "code",
   "execution_count": 39,
   "metadata": {},
   "outputs": [],
   "source": [
    "snapshots = [rand_graph(10,20), rand_graph(10,14), rand_graph(10,22)];"
   ]
  },
  {
   "cell_type": "code",
   "execution_count": 40,
   "metadata": {},
   "outputs": [
    {
     "data": {
      "text/plain": [
       "TemporalSnapshotsGNNGraph:\n",
       "  num_nodes: [10, 10, 10, 10, 10, 10, 10, 10, 10, 10, 10, 10, 10, 10, 10, 10, 10, 10, 10, 10, 10, 10, 10, 10, 10, 10, 10, 10, 10, 10, 10, 10, 10, 10, 10, 10, 10, 10, 10, 10, 10]\n",
       "  num_edges: [20, 20, 20, 20, 20, 20, 20, 20, 20, 20, 20, 20, 20, 20, 20, 20, 20, 20, 20, 20, 20, 20, 20, 20, 20, 20, 20, 20, 20, 20, 20, 20, 20, 20, 20, 20, 20, 20, 20, 16, 20]\n",
       "  num_snapshots: 41\n",
       "  tgdata:\n",
       "\tx = 4-element Vector{Float64}"
      ]
     },
     "metadata": {},
     "output_type": "display_data"
    }
   ],
   "source": [
    "#Lets add a new snapshot at time t=40\n",
    "new_vic1 = add_snapshot(vic1, 40, rand_graph(10, 16)) # add a new snapshot at time 3"
   ]
  },
  {
   "cell_type": "code",
   "execution_count": 41,
   "metadata": {},
   "outputs": [],
   "source": [
    "using GraphNeuralNetworks\n",
    "\n",
    "snapshots = [rand_graph(10,20), rand_graph(10,14), rand_graph(10,22)];"
   ]
  },
  {
   "cell_type": "code",
   "execution_count": 42,
   "metadata": {},
   "outputs": [
    {
     "data": {
      "text/plain": [
       "TemporalSnapshotsGNNGraph:\n",
       "  num_nodes: [10, 10, 10]\n",
       "  num_edges: [20, 14, 22]\n",
       "  num_snapshots: 3"
      ]
     },
     "metadata": {},
     "output_type": "display_data"
    }
   ],
   "source": [
    "vic2 = TemporalSnapshotsGNNGraph(snapshots)"
   ]
  },
  {
   "cell_type": "code",
   "execution_count": 43,
   "metadata": {},
   "outputs": [
    {
     "data": {
      "text/plain": [
       "TemporalSnapshotsGNNGraph:\n",
       "  num_nodes: [10, 10]\n",
       "  num_edges: [20, 22]\n",
       "  num_snapshots: 2"
      ]
     },
     "metadata": {},
     "output_type": "display_data"
    }
   ],
   "source": [
    "new_vic2 = remove_snapshot(vic2, 2) # remove snapshot at time 2"
   ]
  },
  {
   "cell_type": "code",
   "execution_count": 44,
   "metadata": {},
   "outputs": [],
   "source": [
    "#Random generators on TemporalSnapshotsGNNGraph \n",
    "\n",
    "#rand_temporal_radius_graph(number_nodes::Int, \n",
    "                           #number_snapshots::Int,\n",
    "                           #speed::AbstractFloat,\n",
    "                           #r::AbstractFloat;\n",
    "                           #self_loops = false,\n",
    "                           #dir = :in,\n",
    "                           #kws...)"
   ]
  },
  {
   "cell_type": "code",
   "execution_count": 45,
   "metadata": {},
   "outputs": [],
   "source": [
    "#Create a random temporal graph given number_nodes nodes and number_snapshots snapshots. \n",
    "#First, the positions of the nodes are randomly generated in the unit square. \n",
    "#Two nodes are connected if their distance is less than a given radius r. \n",
    "#    Each following snapshot is obtained by applying the same construction to new positions obtained as follows. \n",
    "#    For each snapshot, the new positions of the points are determined by applying random independent displacement \n",
    "#    vectors to the previous positions. The direction of the displacement is chosen uniformly at random \n",
    "#   and its length is chosen uniformly in [0, speed]. Then the connections are recomputed. \n",
    "#    If a point happens to move outside the boundary, its position is updated as if it had bounced off the boundary.\n",
    "\n",
    "\n",
    "#Definitions\n",
    "\n",
    "#number_nodes: The number of nodes of each snapshot.\n",
    "#number_snapshots: The number of snapshots.\n",
    "#speed: The speed to update the nodes.\n",
    "#r: The radius of connection.\n",
    "#self_loops: If true, consider the node itself among its neighbors, in which case the graph will contain self-loops.\n",
    "#dir: The direction of the edges. If dir=:in edges go from the neighbors to the central node. If dir=:out we have the opposite direction.\n",
    "#kws: Further keyword arguments will be passed to the GNNGraph constructor of each snapshot."
   ]
  },
  {
   "cell_type": "code",
   "execution_count": 46,
   "metadata": {},
   "outputs": [],
   "source": [
    "#Lets start\n",
    "n, snaps, s, r = 10, 5, 0.1, 1.5;"
   ]
  },
  {
   "cell_type": "code",
   "execution_count": 47,
   "metadata": {},
   "outputs": [
    {
     "data": {
      "text/plain": [
       "TemporalSnapshotsGNNGraph:\n",
       "  num_nodes: [10, 10, 10, 10, 10]\n",
       "  num_edges: [90, 90, 90, 90, 90]\n",
       "  num_snapshots: 5"
      ]
     },
     "metadata": {},
     "output_type": "display_data"
    }
   ],
   "source": [
    "vic3 = rand_temporal_radius_graph(n,snaps,s,r) # complete graph at each snapshot"
   ]
  },
  {
   "cell_type": "code",
   "execution_count": 48,
   "metadata": {},
   "outputs": [],
   "source": [
    "#Lets implement random temporal hyperbolic graph\n",
    "#rand_temporal_hyperbolic_graph(number_nodes::Int, \n",
    " #                              number_snapshots::Int;\n",
    " #                              α::Real,\n",
    " #                             R::Real,\n",
    " #                            speed::Real,\n",
    " #                           ζ::Real=1,\n",
    " #                            self_loop = false,\n",
    " #                            kws...)\n",
    "\n",
    "\n",
    "\n",
    " #Create a random temporal graph given number_nodes nodes and number_snapshots snapshots. \n",
    " #First, the positions of the nodes are generated with a quasi-uniform distribution (depending on the parameter α)\n",
    " # in hyperbolic space within a disk of radius R. Two nodes are connected if their hyperbolic distance is less than R. \n",
    " #Each following snapshot is created in order to keep the same initial distribution.\n",
    "\n",
    "\n",
    "# Definitions:\n",
    "\n",
    "\n",
    "#number_nodes: The number of nodes of each snapshot.\n",
    "#number_snapshots: The number of snapshots.\n",
    "#α: The parameter that controls the position of the points. If α=ζ, the points are uniformly distributed on the disk of radius R. If α>ζ, the points are more concentrated in the center of the disk. If α<ζ, the points are more concentrated at the boundary of the disk.\n",
    "#R: The radius of the disk and of connection.\n",
    "#speed: The speed to update the nodes.\n",
    "#ζ: The parameter that controls the curvature of the disk.\n",
    "#self_loops: If true, consider the node itself among its neighbors, in which case the graph will contain self-loops.\n",
    "#kws: Further keyword arguments will be passed to the GNNGraph constructor of each snapshot."
   ]
  },
  {
   "cell_type": "code",
   "execution_count": 49,
   "metadata": {},
   "outputs": [],
   "source": [
    "n, snaps, α, R, speed, ζ = 10, 5, 1.0, 4.0, 0.1, 1.0;"
   ]
  },
  {
   "cell_type": "code",
   "execution_count": 50,
   "metadata": {},
   "outputs": [
    {
     "data": {
      "text/plain": [
       "TemporalSnapshotsGNNGraph:\n",
       "  num_nodes: [10, 10, 10, 10, 10]\n",
       "  num_edges: [22, 20, 16, 16, 18]\n",
       "  num_snapshots: 5"
      ]
     },
     "metadata": {},
     "output_type": "display_data"
    }
   ],
   "source": [
    "vic4 = rand_temporal_hyperbolic_graph(n, snaps; α, R, speed, ζ)"
   ]
  }
 ],
 "metadata": {
  "kernelspec": {
   "display_name": "Julia 1.10.4",
   "language": "julia",
   "name": "julia-1.10"
  },
  "language_info": {
   "file_extension": ".jl",
   "mimetype": "application/julia",
   "name": "julia",
   "version": "1.10.4"
  }
 },
 "nbformat": 4,
 "nbformat_minor": 2
}
