{
 "cells": [
  {
   "cell_type": "code",
   "execution_count": 1,
   "metadata": {},
   "outputs": [
    {
     "ename": "SystemError",
     "evalue": "SystemError: opening file \"C:\\\\Users\\\\HP\\\\.julia\\\\scratchspaces\\\\124859b0-ceae-595e-8997-d05f6a7a8dfe\\\\datadeps\\\\TemporalBrains\\\\LabelledTBN\\\\labels.txt\": No such file or directory",
     "output_type": "error",
     "traceback": [
      "SystemError: opening file \"C:\\\\Users\\\\HP\\\\.julia\\\\scratchspaces\\\\124859b0-ceae-595e-8997-d05f6a7a8dfe\\\\datadeps\\\\TemporalBrains\\\\LabelledTBN\\\\labels.txt\": No such file or directory\n",
      "\n",
      "Stacktrace:\n",
      "  [1] systemerror(p::String, errno::Int32; extrainfo::Nothing)\n",
      "    @ Base .\\error.jl:176\n",
      "  [2] systemerror\n",
      "    @ .\\error.jl:175 [inlined]\n",
      "  [3] open(fname::String; lock::Bool, read::Bool, write::Nothing, create::Nothing, truncate::Nothing, append::Nothing)\n",
      "    @ Base .\\iostream.jl:293\n",
      "  [4] open\n",
      "    @ .\\iostream.jl:275 [inlined]\n",
      "  [5] open(fname::String, mode::String; lock::Bool)\n",
      "    @ Base .\\iostream.jl:356\n",
      "  [6] open\n",
      "    @ .\\iostream.jl:355 [inlined]\n",
      "  [7] create_tbdataset(dir::String, thre::Float64)\n",
      "    @ MLDatasets C:\\Users\\HP\\.julia\\packages\\MLDatasets\\mtOdX\\src\\datasets\\graphs\\temporalbrains.jl:30\n",
      "  [8] TemporalBrains(; threshold_value::Float64, dir::Nothing)\n",
      "    @ MLDatasets C:\\Users\\HP\\.julia\\packages\\MLDatasets\\mtOdX\\src\\datasets\\graphs\\temporalbrains.jl:75\n",
      "  [9] TemporalBrains()\n",
      "    @ MLDatasets C:\\Users\\HP\\.julia\\packages\\MLDatasets\\mtOdX\\src\\datasets\\graphs\\temporalbrains.jl:72\n",
      " [10] top-level scope\n",
      "    @ c:\\Users\\HP\\Desktop\\VicWorks03082024\\eSGC_TemporalBrain.ipynb:16"
     ]
    }
   ],
   "source": [
    "# Example of graph classification when graphs are temporal and modeled as `TemporalSnapshotsGNNGraphs'. \n",
    "# In this code, we train a simple temporal graph neural network architecture to classify subjects' gender (female or male) using the temporal graphs extracted from their brain fMRI scan signals.\n",
    "# The dataset used is the TemporalBrains dataset from the MLDataset.jl package, and the accuracy achieved with the model reaches 65-70% (it can be improved by fine-tuning the parameters of the model). \n",
    "\n",
    "#MLDatasets.ChickenPox\n",
    "#MLDatasets.CiteSeer\n",
    "#MLDatasets.Cora\n",
    "#MLDatasets.Graph\n",
    "#MLDatasets.HeteroGraph\n",
    "#MLDatasets.KarateClub\n",
    "#MLDatasets.METRLA\n",
    "#MLDatasets.MovieLens\n",
    "#MLDatasets.OGBDataset\n",
    "#MLDatasets.OrganicMaterialsDB\n",
    "#MLDatasets.PEMSBAY\n",
    "#MLDatasets.PolBlogs\n",
    "#MLDatasets.PubMed\n",
    "#MLDatasets.Reddit\n",
    "#MLDatasets.TUDataset\n",
    "#MLDatasets.TemporalBrains\n",
    "#MLDatasets.WindMillEnergy\n",
    "\n",
    "# Load packages\n",
    "using Flux\n",
    "using Flux.Losses: mae\n",
    "using GraphNeuralNetworks\n",
    "using CUDA\n",
    "using Statistics, Random\n",
    "using LinearAlgebra\n",
    "using MLDatasets\n",
    "CUDA.allowscalar(false)\n",
    "\n",
    "# Load data\n",
    "MLdataset = TemporalBrains()\n",
    "graphs = MLdataset.graphs\n"
   ]
  }
 ],
 "metadata": {
  "kernelspec": {
   "display_name": "Julia 1.10.4",
   "language": "julia",
   "name": "julia-1.10"
  },
  "language_info": {
   "file_extension": ".jl",
   "mimetype": "application/julia",
   "name": "julia",
   "version": "1.10.4"
  }
 },
 "nbformat": 4,
 "nbformat_minor": 2
}
